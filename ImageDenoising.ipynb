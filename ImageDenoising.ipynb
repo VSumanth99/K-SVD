{
  "nbformat": 4,
  "nbformat_minor": 0,
  "metadata": {
    "kernelspec": {
      "display_name": "Python 3",
      "language": "python",
      "name": "python3"
    },
    "language_info": {
      "codemirror_mode": {
        "name": "ipython",
        "version": 3
      },
      "file_extension": ".py",
      "mimetype": "text/x-python",
      "name": "python",
      "nbconvert_exporter": "python",
      "pygments_lexer": "ipython3",
      "version": "3.6.4"
    },
    "colab": {
      "name": "ImageDenoising.ipynb",
      "provenance": []
    }
  },
  "cells": [
    {
      "cell_type": "markdown",
      "metadata": {
        "id": "HYFXarzZzdHx"
      },
      "source": [
        "# Image Denoising"
      ]
    },
    {
      "cell_type": "markdown",
      "metadata": {
        "id": "VcRfdpm4zfUx"
      },
      "source": [
        "## Import relevant libraries"
      ]
    },
    {
      "cell_type": "code",
      "metadata": {
        "id": "t-UrbUsCxzzA"
      },
      "source": [
        "#Import Numpy for matrix operations\n",
        "import numpy as np\n",
        "\n",
        "#Import the normalize function from preprocessing package from sklearn\n",
        "from sklearn.preprocessing import normalize\n",
        "\n",
        "#Import the Orthogonal Matching Pursuit Algorithm from Scikit-Learn, for \n",
        "#the implementation of the K-SVD and Approximate K-SVD algorithm\n",
        "from sklearn.linear_model import orthogonal_mp\n",
        "\n",
        "#Import the Sparse SVD function from scipy, used in the original SVD algorithm\n",
        "from scipy.sparse.linalg import svds\n",
        "\n",
        "#Import the norm function from the linear algebra package of numpy, used in \n",
        "#the implementation of K-SVD\n",
        "from numpy.linalg import norm, inv\n",
        "\n",
        "#Import the walk function from the os package to perform file operations\n",
        "from os import walk\n",
        "\n",
        "from PIL import Image\n",
        "import matplotlib.pyplot as plt\n"
      ],
      "execution_count": null,
      "outputs": []
    },
    {
      "cell_type": "markdown",
      "metadata": {
        "id": "NXqkDCp1ziBS"
      },
      "source": [
        "## Approximate K-SVD"
      ]
    },
    {
      "cell_type": "code",
      "metadata": {
        "id": "d3Z2ksEvxzzK"
      },
      "source": [
        "#Implementation of the Approximate K-SVD algorithm (Rubinstein et. al (2008))\n",
        "def Approx_K_SVD(signal_set, dictionary_size, sparsity, n_iterations=100, D=None):\n",
        "\n",
        "    #get the number of features (Signal size)\n",
        "    n_features = signal_set.shape[0]\n",
        "\n",
        "    #initlialise the dictionary \n",
        "    if D is None:\n",
        "        D = np.random.randn(n_features, dictionary_size)\n",
        "\n",
        "    #normalize the columns of D\n",
        "    D = normalize(D, norm='l2', axis = 0)\n",
        "    norm_score = 1000\n",
        "    \n",
        "    for iteration in range(n_iterations):\n",
        "        print(\"Iteration:\", iteration)\n",
        "        #-----------------------------------------------------------------------\n",
        "        #                         Spare Coding Step\n",
        "        #-----------------------------------------------------------------------\n",
        "        #Here, we run the OMP algorithm on the dictionary and the signal set to\n",
        "        #obtain the sparse code for the current iteration\n",
        " \n",
        "        sparse_code = orthogonal_mp(D, signal_set, sparsity)\n",
        "        #loop through every column of D to update\n",
        "        for i in range(dictionary_size):\n",
        "            #make the current column zero. \n",
        "            #This is a simplification for the code that follows\n",
        "            D[:, i] = np.zeros((n_features))\n",
        "            #find the signals that used the column i of the dictionary D\n",
        "            indices = np.nonzero(sparse_code[i, :])\n",
        "            if indices[0].size == 0:\n",
        "                continue\n",
        "\n",
        "            #----------------------------------------------------------------------\n",
        "            #                     Dictionary update step\n",
        "            #----------------------------------------------------------------------\n",
        "            # Instead of using an SVD decomposition as above, we use an approximate\n",
        "            # method as proposed in the paper by Rubinstein et. al (2008)\n",
        "\n",
        "            g = sparse_code[i, indices[0]].T\n",
        "            temp = signal_set[:, indices[0]] - D.dot(sparse_code[:, indices[0]])\n",
        "            d = temp.dot(g)\n",
        "            d = normalize(d.reshape(-1,1), axis=0)\n",
        "            g = temp.T.dot(d)\n",
        "            D[:, i] = d.ravel()\n",
        "            sparse_code[i, indices[0]] = g.T\n",
        "\n",
        "        print(norm(signal_set-np.matmul(D, sparse_code)))\n",
        "        norm_score = norm(signal_set-np.matmul(D, sparse_code))/norm(signal_set)\n",
        "         \n",
        "    return D, sparse_code"
      ],
      "execution_count": null,
      "outputs": []
    },
    {
      "cell_type": "markdown",
      "metadata": {
        "id": "8T5sB3WIzmlH"
      },
      "source": [
        "## Utility Functions"
      ]
    },
    {
      "cell_type": "code",
      "metadata": {
        "id": "cXlJTDr7xzzL"
      },
      "source": [
        "def get_patch(i, j, n, image):\n",
        "    K = int(np.sqrt(n))\n",
        "    R = np.zeros((K, K, 3))\n",
        "    img_data = np.asarray(image)\n",
        "    R = img_data[i:i+K, j:j+K]\n",
        "    \"\"\"for k in range(K):\n",
        "        for l in range(K):\n",
        "            R[k,l, :] = img_data[i+k, j+l, :]\n",
        "       \"\"\" \n",
        "    return R"
      ],
      "execution_count": null,
      "outputs": []
    },
    {
      "cell_type": "code",
      "metadata": {
        "id": "GrkG4eVixzzM"
      },
      "source": [
        "def get_patch_single(i, j, n, image):\n",
        "    K = int(np.sqrt(n))\n",
        "    R = np.zeros((K, K, 1))\n",
        "    img_data = np.asarray(image)\n",
        "    R = img_data[i:i+K, j:j+K]\n",
        "    \"\"\"for k in range(K):\n",
        "        for l in range(K):\n",
        "            R[k,l, :] = img_data[i+k, j+l, :]\n",
        "       \"\"\" \n",
        "    return R"
      ],
      "execution_count": null,
      "outputs": []
    },
    {
      "cell_type": "code",
      "metadata": {
        "id": "NZN-zQkqxzzM"
      },
      "source": [
        "def extract_patches(img_data, patch_size):\n",
        "    K = int(np.sqrt(patch_size))\n",
        "    n_patches = int(img_data.shape[0] * img_data.shape[1]/patch_size)\n",
        "    X = np.zeros((patch_size*3, n_patches))\n",
        "\n",
        "    for i in range(int(img_data.shape[0]/K)):\n",
        "        for j in range(int(img_data.shape[1]/K)):\n",
        "            X[:, i*int(img_data.shape[0]/K)+j] = get_patch(i*K, j*K, patch_size, img_data).flatten()\n",
        "    return  X"
      ],
      "execution_count": null,
      "outputs": []
    },
    {
      "cell_type": "code",
      "metadata": {
        "id": "SbF9XUYexzzM"
      },
      "source": [
        "def extract_patches_single(img_data, patch_size):\n",
        "    K = int(np.sqrt(patch_size))\n",
        "    n_patches = int(img_data.shape[0] * img_data.shape[1]/patch_size)\n",
        "    X = np.zeros((patch_size, n_patches))\n",
        "\n",
        "    for i in range(int(img_data.shape[0]/K)):\n",
        "        for j in range(int(img_data.shape[1]/K)):\n",
        "            X[:, i*int(img_data.shape[0]/K)+j] = get_patch_single(i*K, j*K, patch_size, img_data).flatten()\n",
        "    return  X"
      ],
      "execution_count": null,
      "outputs": []
    },
    {
      "cell_type": "code",
      "metadata": {
        "id": "LCJ_rJtCxzzN"
      },
      "source": [
        "def extract_patches_stride(img_data, patch_size, stride):\n",
        "    K = int(np.sqrt(patch_size))\n",
        "    n_patches = int(img_data.shape[0]/stride * img_data.shape[1]/stride)\n",
        "    X = np.zeros((patch_size*3, n_patches))\n",
        "    print(X.shape)\n",
        "    for i in range(0, img_data.shape[0], stride):\n",
        "        for j in range(0, img_data.shape[1], stride):\n",
        "            t = get_patch(i*stride, j*stride, patch_size, img_data).flatten()\n",
        "            if t.size == patch_size*3:\n",
        "                X[:, i*int(img_data.shape[0]/stride)+j] = t\n",
        "    return  X"
      ],
      "execution_count": null,
      "outputs": []
    },
    {
      "cell_type": "code",
      "metadata": {
        "id": "DQlklwoOxzzN"
      },
      "source": [
        "def recreate_image(patch_array, img_data_shape, patch_size):\n",
        "    K = int(np.sqrt(patch_size))\n",
        "    new_img = np.zeros((img_data_shape[0], img_data_shape[1], 3))\n",
        "    for i in range(int(img_data_shape[0]/K)):\n",
        "        for j in range(int(img_data_shape[1]/K)):\n",
        "            new_img[i*K:(i+1)*K, j*K:K*(j+1), :] = patch_array[:, i*int(img_data_shape[0]/K) + j].reshape(K, K, 3)\n",
        "    return new_img"
      ],
      "execution_count": null,
      "outputs": []
    },
    {
      "cell_type": "code",
      "metadata": {
        "id": "c_PNigjoxzzN"
      },
      "source": [
        "def recreate_image_single(patch_array, img_data_shape, patch_size):\n",
        "    K = int(np.sqrt(patch_size))\n",
        "    new_img = np.zeros((img_data_shape[0], img_data_shape[1], 1))\n",
        "    for i in range(int(img_data_shape[0]/K)):\n",
        "        for j in range(int(img_data_shape[1]/K)):\n",
        "            new_img[i*K:(i+1)*K, j*K:K*(j+1), :] = patch_array[:, i*int(img_data_shape[0]/K) + j].reshape(K, K, 1)\n",
        "    return new_img"
      ],
      "execution_count": null,
      "outputs": []
    },
    {
      "cell_type": "code",
      "metadata": {
        "id": "zwmelaPlxzzO"
      },
      "source": [
        "def post_process(img_data):\n",
        "    img_data = np.minimum(img_data, np.full(img_data.shape, 255.0))\n",
        "    img_data = np.maximum(img_data, np.full(img_data.shape, 0.0))\n",
        "    return img_data"
      ],
      "execution_count": null,
      "outputs": []
    },
    {
      "cell_type": "code",
      "metadata": {
        "id": "qR_jJK_cxzzP"
      },
      "source": [
        "def noise_image(img_data, var=0.1):\n",
        "    noisy_data = (img_data/255 +  var*np.random.randn(img_data.shape[0], img_data.shape[1], 3))*255 #* img_data\n",
        "    noisy_data = post_process(noisy_data)\n",
        "    \n",
        "    return noisy_data"
      ],
      "execution_count": null,
      "outputs": []
    },
    {
      "cell_type": "code",
      "metadata": {
        "id": "M4yhJVYSxzzP"
      },
      "source": [
        "variance = 0.3\r\n",
        "patch_size = 16"
      ],
      "execution_count": null,
      "outputs": []
    },
    {
      "cell_type": "code",
      "metadata": {
        "id": "Sn6mEBnsxzzP",
        "outputId": "0cf996c4-57d2-42fe-94bf-724e4b6648b1"
      },
      "source": [
        "image = Image.open('faces/face2.png')\n",
        "image = image.resize((512, 512))\n",
        "img_data = np.asarray(image)\n",
        "print(img_data.shape)\n",
        "#img_data = np.mean(img_data, axis=2)\n",
        "noisy_data = noise_image(img_data, variance)\n",
        "#noisy_data [noisy_data>255] -= 255\n",
        "#noisy_data [noisy_data<0] += 255\n",
        "\n",
        "X = extract_patches(noisy_data, patch_size)\n",
        "print(X.shape)"
      ],
      "execution_count": null,
      "outputs": [
        {
          "output_type": "stream",
          "text": [
            "(512, 512, 3)\n",
            "(48, 16384)\n"
          ],
          "name": "stdout"
        }
      ]
    },
    {
      "cell_type": "code",
      "metadata": {
        "id": "vlIKLE17xzzR",
        "outputId": "059a6c17-d96e-4b0d-c77c-a08924445114"
      },
      "source": [
        "image = Image.open('faces/face1.jpg')\n",
        "image = image.resize((512, 512))\n",
        "img_data = np.asarray(image)\n",
        "print(img_data.shape)\n",
        "#img_data = np.mean(img_data, axis=2)\n",
        "noisy_data = noise_image(img_data, variance)\n",
        "#noisy_data [noisy_data>255] -= 255\n",
        "#noisy_data [noisy_data<0] += 255\n",
        "\n",
        "temp = extract_patches(noisy_data, patch_size)\n",
        "print(temp.shape)"
      ],
      "execution_count": null,
      "outputs": [
        {
          "output_type": "stream",
          "text": [
            "(512, 512, 3)\n",
            "(48, 16384)\n"
          ],
          "name": "stdout"
        }
      ]
    },
    {
      "cell_type": "code",
      "metadata": {
        "id": "4zamo6rvxzzR",
        "outputId": "0e47c81d-8304-494f-9ff3-ece2f35bf8b4"
      },
      "source": [
        "X = np.concatenate((X, temp), axis=1)\n",
        "print(X.shape)"
      ],
      "execution_count": null,
      "outputs": [
        {
          "output_type": "stream",
          "text": [
            "(48, 32768)\n"
          ],
          "name": "stdout"
        }
      ]
    },
    {
      "cell_type": "code",
      "metadata": {
        "id": "UvqunKgjxzzR",
        "outputId": "ec31297a-fd56-45d1-c71a-fbb5b3c5be09"
      },
      "source": [
        "image = Image.open('image.jpg')\n",
        "image = image.resize((1024, 1024))\n",
        "img_data = np.asarray(image)\n",
        "print(img_data.shape)\n",
        "#img_data = np.mean(img_data, axis=2)\n"
      ],
      "execution_count": null,
      "outputs": [
        {
          "output_type": "stream",
          "text": [
            "(1024, 1024, 3)\n"
          ],
          "name": "stdout"
        }
      ]
    },
    {
      "cell_type": "code",
      "metadata": {
        "id": "zVTsLAcdxzzS",
        "outputId": "c421d247-0c38-442a-b1fa-96ed8be54f61"
      },
      "source": [
        "plt.imshow(img_data)"
      ],
      "execution_count": null,
      "outputs": [
        {
          "output_type": "execute_result",
          "data": {
            "text/plain": [
              "<matplotlib.image.AxesImage at 0x2c621e095f8>"
            ]
          },
          "metadata": {
            "tags": []
          },
          "execution_count": 18
        },
        {
          "output_type": "display_data",
          "data": {
            "image/png": "[encoded data removed]",
            "text/plain": [
              "<matplotlib.figure.Figure at 0x2c6219fe630>"
            ]
          },
          "metadata": {
            "tags": [],
            "needs_background": "light"
          }
        }
      ]
    },
    {
      "cell_type": "code",
      "metadata": {
        "id": "X8MK1p4OxzzS"
      },
      "source": [
        "noisy_data = noise_image(img_data, var=variance)\n",
        "#noisy_data [noisy_data>255] -= 255\n",
        "#noisy_data [noisy_data<0] += 255\n",
        "\n",
        "\n",
        "image3 = Image.fromarray(noisy_data.astype('uint8'))\n",
        "image3.show()"
      ],
      "execution_count": null,
      "outputs": []
    },
    {
      "cell_type": "code",
      "metadata": {
        "id": "9uqKuijUxzzS"
      },
      "source": [
        "newX = extract_patches(noisy_data, patch_size)"
      ],
      "execution_count": null,
      "outputs": []
    },
    {
      "cell_type": "code",
      "metadata": {
        "scrolled": true,
        "id": "K30t8lTUxzzT",
        "outputId": "478c3abc-5a88-492f-f936-8f1b4a8aad62"
      },
      "source": [
        "print(newX.shape)"
      ],
      "execution_count": null,
      "outputs": [
        {
          "output_type": "stream",
          "text": [
            "(48, 65536)\n"
          ],
          "name": "stdout"
        }
      ]
    },
    {
      "cell_type": "code",
      "metadata": {
        "id": "HpdLKbW-xzzT",
        "outputId": "00e60128-12d5-4ec7-9458-b303a5220295"
      },
      "source": [
        "print(noisy_data.shape)\n",
        "non_zero = 2"
      ],
      "execution_count": null,
      "outputs": [
        {
          "output_type": "stream",
          "text": [
            "(1024, 1024, 3)\n"
          ],
          "name": "stdout"
        }
      ]
    },
    {
      "cell_type": "code",
      "metadata": {
        "scrolled": true,
        "id": "Ul612bGcxzzT",
        "outputId": "38ebcab7-e57a-4dfa-fb6a-9f8ea0eb4ed2"
      },
      "source": [
        "D, sparse_code = Approx_K_SVD(newX, 100, non_zero, 100)"
      ],
      "execution_count": null,
      "outputs": [
        {
          "output_type": "stream",
          "text": [
            "Iteration: 0\n",
            "117928.69276019117\n",
            "Iteration: 1\n",
            "99744.20895047615\n",
            "Iteration: 2\n",
            "97589.04537870323\n",
            "Iteration: 3\n",
            "96666.59197887678\n",
            "Iteration: 4\n",
            "96054.08508437817\n",
            "Iteration: 5\n",
            "95646.30308255789\n",
            "Iteration: 6\n",
            "95370.96600899535\n",
            "Iteration: 7\n",
            "95176.1840140116\n",
            "Iteration: 8\n",
            "95030.07347723666\n",
            "Iteration: 9\n",
            "94910.45834627452\n",
            "Iteration: 10\n",
            "94809.24047459394\n",
            "Iteration: 11\n",
            "94719.19549714847\n",
            "Iteration: 12\n",
            "94632.20737689313\n",
            "Iteration: 13\n",
            "94541.06674689193\n",
            "Iteration: 14\n",
            "94457.3558833516\n",
            "Iteration: 15\n",
            "94371.47958909092\n",
            "Iteration: 16\n",
            "94291.87616686145\n",
            "Iteration: 17\n",
            "94225.05180100523\n",
            "Iteration: 18\n",
            "94161.05339134272\n",
            "Iteration: 19\n",
            "94107.93697868471\n",
            "Iteration: 20\n",
            "94057.11541119966\n",
            "Iteration: 21\n",
            "94011.26585091223\n",
            "Iteration: 22\n",
            "93969.12633174911\n",
            "Iteration: 23\n",
            "93929.13672456739\n",
            "Iteration: 24\n",
            "93890.34695818767\n",
            "Iteration: 25\n",
            "93855.75641983667\n",
            "Iteration: 26\n",
            "93820.1562008806\n",
            "Iteration: 27\n",
            "93786.83805759042\n",
            "Iteration: 28\n",
            "93757.78648784112\n",
            "Iteration: 29\n",
            "93732.9969504708\n",
            "Iteration: 30\n",
            "93710.90480397786\n",
            "Iteration: 31\n",
            "93689.8549607188\n",
            "Iteration: 32\n",
            "93673.28950450961\n",
            "Iteration: 33\n",
            "93656.74963713616\n",
            "Iteration: 34\n",
            "93641.15250912117\n",
            "Iteration: 35\n",
            "93626.25996053517\n",
            "Iteration: 36\n",
            "93611.85919549492\n",
            "Iteration: 37\n",
            "93597.6998039902\n",
            "Iteration: 38\n",
            "93583.93887110909\n",
            "Iteration: 39\n",
            "93570.93150354303\n",
            "Iteration: 40\n",
            "93558.41076803728\n",
            "Iteration: 41\n",
            "93546.5602713656\n",
            "Iteration: 42\n",
            "93534.57847623718\n",
            "Iteration: 43\n",
            "93525.51785578775\n",
            "Iteration: 44\n",
            "93515.25643471107\n",
            "Iteration: 45\n",
            "93505.65448183577\n",
            "Iteration: 46\n",
            "93497.06853441316\n",
            "Iteration: 47\n",
            "93488.2690266744\n",
            "Iteration: 48\n",
            "93480.83265244577\n",
            "Iteration: 49\n",
            "93471.59906284591\n",
            "Iteration: 50\n",
            "93464.52251067123\n",
            "Iteration: 51\n",
            "93457.67966789656\n",
            "Iteration: 52\n",
            "93450.23300635688\n",
            "Iteration: 53\n",
            "93444.10513586472\n",
            "Iteration: 54\n",
            "93437.77091039106\n",
            "Iteration: 55\n",
            "93432.19912257158\n",
            "Iteration: 56\n",
            "93425.72060917076\n",
            "Iteration: 57\n",
            "93418.64004691433\n",
            "Iteration: 58\n",
            "93412.26981147098\n",
            "Iteration: 59\n",
            "93407.42551387835\n",
            "Iteration: 60\n",
            "93402.5333160712\n",
            "Iteration: 61\n",
            "93397.54728443731\n",
            "Iteration: 62\n",
            "93393.79663769789\n",
            "Iteration: 63\n",
            "93390.70959617519\n",
            "Iteration: 64\n",
            "93385.59475279124\n",
            "Iteration: 65\n",
            "93380.67217408429\n",
            "Iteration: 66\n",
            "93376.78050691109\n",
            "Iteration: 67\n",
            "93372.6935081733\n",
            "Iteration: 68\n",
            "93368.54158764376\n",
            "Iteration: 69\n",
            "93365.69100674655\n",
            "Iteration: 70\n",
            "93361.55324551235\n",
            "Iteration: 71\n",
            "93359.33021795076\n",
            "Iteration: 72\n",
            "93356.00524644683\n",
            "Iteration: 73\n",
            "93354.21367518087\n",
            "Iteration: 74\n",
            "93350.2432358937\n",
            "Iteration: 75\n",
            "93347.6709198718\n",
            "Iteration: 76\n",
            "93344.21391975092\n",
            "Iteration: 77\n",
            "93342.32174930249\n",
            "Iteration: 78\n",
            "93340.50486953245\n",
            "Iteration: 79\n",
            "93336.42814180585\n",
            "Iteration: 80\n",
            "93333.74055557708\n",
            "Iteration: 81\n",
            "93332.94860884977\n",
            "Iteration: 82\n",
            "93332.40764220798\n",
            "Iteration: 83\n",
            "93331.66611979787\n",
            "Iteration: 84\n",
            "93329.19868071753\n",
            "Iteration: 85\n",
            "93327.54969853074\n",
            "Iteration: 86\n",
            "93325.33584608503\n",
            "Iteration: 87\n",
            "93323.47601093572\n",
            "Iteration: 88\n",
            "93321.4687649531\n",
            "Iteration: 89\n",
            "93319.31979914318\n",
            "Iteration: 90\n",
            "93317.39180406556\n",
            "Iteration: 91\n",
            "93315.99915796782\n",
            "Iteration: 92\n",
            "93314.96804771986\n",
            "Iteration: 93\n",
            "93313.10110348184\n",
            "Iteration: 94\n",
            "93311.47919313071\n",
            "Iteration: 95\n",
            "93310.51942747015\n",
            "Iteration: 96\n",
            "93308.74006809999\n",
            "Iteration: 97\n",
            "93307.84430026666\n",
            "Iteration: 98\n",
            "93307.41328762105\n",
            "Iteration: 99\n",
            "93306.61858658861\n"
          ],
          "name": "stdout"
        }
      ]
    },
    {
      "cell_type": "code",
      "metadata": {
        "id": "yRlfgl9fxzzT"
      },
      "source": [
        "newX = extract_patches(noisy_data, patch_size)"
      ],
      "execution_count": null,
      "outputs": []
    },
    {
      "cell_type": "code",
      "metadata": {
        "id": "iFG8Ev8axzzU",
        "outputId": "207b670e-a4ad-4e13-d8ee-531e660b3fcd"
      },
      "source": [
        "print(newX.shape)"
      ],
      "execution_count": null,
      "outputs": [
        {
          "output_type": "stream",
          "text": [
            "(48, 65536)\n"
          ],
          "name": "stdout"
        }
      ]
    },
    {
      "cell_type": "code",
      "metadata": {
        "id": "34sF0xMYxzzU"
      },
      "source": [
        "new_sparse = orthogonal_mp(D, newX, n_nonzero_coefs = non_zero)"
      ],
      "execution_count": null,
      "outputs": []
    },
    {
      "cell_type": "code",
      "metadata": {
        "id": "C2H3zp4MxzzU"
      },
      "source": [
        "new_img = recreate_image(D.dot(sparse_code), (image3.size[0], image3.size[1]), patch_size)\n",
        "new_img = post_process(new_img)"
      ],
      "execution_count": null,
      "outputs": []
    },
    {
      "cell_type": "code",
      "metadata": {
        "id": "CBnCkmT9xzzU",
        "outputId": "a485d12b-7ccb-457d-a396-ec3b08b7edf3"
      },
      "source": [
        "print(new_img.shape)"
      ],
      "execution_count": null,
      "outputs": [
        {
          "output_type": "stream",
          "text": [
            "(1024, 1024, 3)\n"
          ],
          "name": "stdout"
        }
      ]
    },
    {
      "cell_type": "code",
      "metadata": {
        "id": "LJXwUnBkxzzV"
      },
      "source": [
        "Image.fromarray(new_img.astype(np.uint8)).show()"
      ],
      "execution_count": null,
      "outputs": []
    },
    {
      "cell_type": "code",
      "metadata": {
        "id": "fjPOW-uZxzzV"
      },
      "source": [
        "Image.fromarray(noisy_data.astype('uint8')).save('noisy.png')\n",
        "Image.fromarray(new_img.astype('uint8')).save('denoised.png')"
      ],
      "execution_count": null,
      "outputs": []
    }
  ]
}