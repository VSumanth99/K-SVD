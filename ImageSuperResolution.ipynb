{
  "nbformat": 4,
  "nbformat_minor": 0,
  "metadata": {
    "colab": {
      "name": "ImageSuperResolution.ipynb",
      "provenance": [],
      "collapsed_sections": []
    },
    "kernelspec": {
      "display_name": "Python 3",
      "language": "python",
      "name": "python3"
    },
    "language_info": {
      "codemirror_mode": {
        "name": "ipython",
        "version": 3
      },
      "file_extension": ".py",
      "mimetype": "text/x-python",
      "name": "python",
      "nbconvert_exporter": "python",
      "pygments_lexer": "ipython3",
      "version": "3.6.4"
    }
  },
  "cells": [
    {
      "cell_type": "markdown",
      "metadata": {
        "id": "WBI9YRDKxiWv"
      },
      "source": [
        "# Image Super-Resolution Using K-SVD\r\n"
      ]
    },
    {
      "cell_type": "markdown",
      "metadata": {
        "id": "W5fl0SBLw4jC"
      },
      "source": [
        "## Importing useful libraries"
      ]
    },
    {
      "cell_type": "code",
      "metadata": {
        "id": "n5FBt_VBBmVM"
      },
      "source": [
        "#Import Numpy for matrix operations\n",
        "import numpy as np\n",
        "\n",
        "#Import the normalize function from preprocessing package from sklearn\n",
        "from sklearn.preprocessing import normalize\n",
        "\n",
        "#Import the Orthogonal Matching Pursuit Algorithm from Scikit-Learn, for \n",
        "#the implementation of the K-SVD and Approximate K-SVD algorithm\n",
        "from sklearn.linear_model import orthogonal_mp\n",
        "\n",
        "#Import the Sparse SVD function from scipy, used in the original SVD algorithm\n",
        "from scipy.sparse.linalg import svds\n",
        "\n",
        "#Import the norm function from the linear algebra package of numpy, used in \n",
        "#the implementation of K-SVD\n",
        "from numpy.linalg import norm, inv\n",
        "\n",
        "#Import the walk function from the os package to perform file operations\n",
        "from os import walk\n",
        "\n",
        "from PIL import Image\n",
        "import matplotlib.pyplot as plt"
      ],
      "execution_count": null,
      "outputs": []
    },
    {
      "cell_type": "markdown",
      "metadata": {
        "id": "nqYgYhcBw9WT"
      },
      "source": [
        "## Approximate K-SVD"
      ]
    },
    {
      "cell_type": "code",
      "metadata": {
        "id": "-ICYStJvBp8H"
      },
      "source": [
        "#Implementation of the Approximate K-SVD algorithm (Rubinstein et. al (2008))\n",
        "def Approx_K_SVD(signal_set, dictionary_size, sparsity, n_iterations=100):\n",
        "\n",
        "  #get the number of features (Signal size)\n",
        "  n_features = signal_set.shape[0]\n",
        "\n",
        "  #initlialise the dictionary \n",
        "  D = np.random.randn(n_features, dictionary_size)\n",
        "  #normalize the columns of D\n",
        "  D = normalize(D, norm='l2', axis = 0)\n",
        "  norm_score = 1000\n",
        "  iteration = 1\n",
        "  for iteration in range(n_iterations):\n",
        "    print(\"Iteration:\", iteration)\n",
        "    #-----------------------------------------------------------------------\n",
        "    #                         Spare Coding Step\n",
        "    #-----------------------------------------------------------------------\n",
        "    #Here, we run the OMP algorithm on the dictionary and the signal set to\n",
        "    #obtain the sparse code for the current iteration\n",
        " \n",
        "    sparse_code = orthogonal_mp(D, signal_set, sparsity)\n",
        "    #loop through every column of D to update\n",
        "    for i in range(dictionary_size):\n",
        "      #make the current column zero. \n",
        "      #This is a simplification for the code that follows\n",
        "      D[:, i] = np.zeros((n_features))\n",
        "      #find the signals that used the column i of the dictionary D\n",
        "      indices = np.nonzero(sparse_code[i, :])\n",
        "      if indices[0].size == 0:\n",
        "        continue\n",
        "\n",
        "      #----------------------------------------------------------------------\n",
        "      #                     Dictionary update step\n",
        "      #----------------------------------------------------------------------\n",
        "      # Instead of using an SVD decomposition as above, we use an approximate\n",
        "      # method as proposed in the paper by Rubinstein et. al (2008)\n",
        "\n",
        "      g = sparse_code[i, indices[0]].T\n",
        "      temp = signal_set[:, indices[0]] - D.dot(sparse_code[:, indices[0]])\n",
        "      d = temp.dot(g)\n",
        "      d = normalize(d.reshape(-1,1), axis=0)\n",
        "      g = temp.T.dot(d)\n",
        "      D[:, i] = d.ravel()\n",
        "      sparse_code[i, indices[0]] = g.T\n",
        "\n",
        "    print(norm(signal_set-np.matmul(D, sparse_code)))\n",
        "    norm_score = norm(signal_set-np.matmul(D, sparse_code))/norm(signal_set)\n",
        "    iteration += 1 \n",
        "  return D, sparse_code"
      ],
      "execution_count": null,
      "outputs": []
    },
    {
      "cell_type": "markdown",
      "metadata": {
        "id": "2SJjnDdSxCx5"
      },
      "source": [
        "## Utility functions"
      ]
    },
    {
      "cell_type": "code",
      "metadata": {
        "id": "rhF5SlYCBsnu"
      },
      "source": [
        "def get_patch(i, j, n, image):\n",
        "    K = int(np.sqrt(n))\n",
        "    R = np.zeros((K,K, 3))\n",
        "    img_data = np.asarray(image)\n",
        "    for k in range(K):\n",
        "        for l in range(K):\n",
        "            R[k,l, :] = img_data[i+k, j+l, :]\n",
        "        \n",
        "    return R"
      ],
      "execution_count": null,
      "outputs": []
    },
    {
      "cell_type": "code",
      "metadata": {
        "id": "sB4-6cZ6Bvt8"
      },
      "source": [
        "def extract_patches(img_data, patch_size):\n",
        "    K = int(np.sqrt(patch_size))\n",
        "    n_patches = int(img_data.shape[0] * img_data.shape[1]/patch_size)\n",
        "    X = np.zeros((patch_size*3, n_patches))\n",
        "\n",
        "    for i in range(int(img_data.shape[0]/K)):\n",
        "        for j in range(int(img_data.shape[1]/K)):\n",
        "            X[:, i*int(img_data.shape[0]/K)+j] = get_patch(i*K, j*K, patch_size, img_data).flatten()\n",
        "    return  X"
      ],
      "execution_count": null,
      "outputs": []
    },
    {
      "cell_type": "code",
      "metadata": {
        "id": "clN01PQnBx-Q"
      },
      "source": [
        "def recreate_image(patch_array, img_data_shape, patch_size):\n",
        "    K = int(np.sqrt(patch_size))\n",
        "    new_img = np.zeros((img_data_shape[0], img_data_shape[1], 3))\n",
        "    for i in range(int(img_data_shape[0]/K)):\n",
        "        for j in range(int(img_data_shape[1]/K)):\n",
        "            new_img[i*K:(i+1)*K, j*K:K*(j+1), :] = patch_array[:, i*int(img_data_shape[0]/K) + j].reshape(K, K, 3)\n",
        "    return new_img"
      ],
      "execution_count": null,
      "outputs": []
    },
    {
      "cell_type": "code",
      "metadata": {
        "id": "PSyA1-VZC1Jr"
      },
      "source": [
        "def post_process(img_data):\n",
        "    img_data = np.minimum(img_data, np.full(img_data.shape, 255.0))\n",
        "    img_data = np.maximum(img_data, np.full(img_data.shape, 0.0))\n",
        "    return img_data"
      ],
      "execution_count": null,
      "outputs": []
    },
    {
      "cell_type": "markdown",
      "metadata": {
        "id": "bTey7LAGxGkf"
      },
      "source": [
        "## Running the K-SVD Algorithm\r\n"
      ]
    },
    {
      "cell_type": "code",
      "metadata": {
        "colab": {
          "base_uri": "https://localhost:8080/",
          "height": 68
        },
        "id": "iRnaPoJDB07s",
        "outputId": "ba1ab3d9-0952-400e-93a5-9c15b776a74b"
      },
      "source": [
        "# load the image\n",
        "image = Image.open('image.jpg')\n",
        "# summarize some details about the image\n",
        "print(image.format)\n",
        "print(image.mode)\n",
        "print(image.size)\n",
        "# show the image\n",
        "image.show()\n",
        "image = image.resize((1024, 1024))"
      ],
      "execution_count": null,
      "outputs": [
        {
          "output_type": "stream",
          "text": [
            "JPEG\n",
            "RGB\n",
            "(1250, 1250)\n"
          ],
          "name": "stdout"
        }
      ]
    },
    {
      "cell_type": "code",
      "metadata": {
        "id": "TrGj1Xr7Dlkd"
      },
      "source": [
        "downscaled_image = image.resize((512, 512))\n",
        "downscaled_image.save('downscaled.png')\n",
        "downscaled_img = np.asarray(downscaled_image).reshape(-1, 1)"
      ],
      "execution_count": null,
      "outputs": []
    },
    {
      "cell_type": "code",
      "metadata": {
        "id": "vHrg9yosDwAf"
      },
      "source": [
        "X = extract_patches(np.asarray(downscaled_image), 4)"
      ],
      "execution_count": null,
      "outputs": []
    },
    {
      "cell_type": "code",
      "metadata": {
        "colab": {
          "base_uri": "https://localhost:8080/",
          "height": 1000
        },
        "id": "OhRPLmHGDV2B",
        "outputId": "3477eb3e-ff19-4482-a143-05dc98574bcd"
      },
      "source": [
        "D, sparse_code = Approx_K_SVD(X, 200, 10, 5)"
      ],
      "execution_count": null,
      "outputs": [
        {
          "output_type": "stream",
          "text": [
            "Iteration: 0\n",
            "250.21355177492148\n",
            "Iteration: 1\n",
            "246.0441530745861\n",
            "Iteration: 2\n",
            "242.99229973031234\n",
            "Iteration: 3\n",
            "239.23679444067932\n",
            "Iteration: 4\n",
            "235.5723757633997\n"
          ],
          "name": "stdout"
        }
      ]
    },
    {
      "cell_type": "code",
      "metadata": {
        "id": "l_3IpVYbGZ0Q"
      },
      "source": [
        "new_img = recreate_image(D.dot(sparse_code), downscaled_image.size, 4)"
      ],
      "execution_count": null,
      "outputs": []
    },
    {
      "cell_type": "code",
      "metadata": {
        "colab": {
          "base_uri": "https://localhost:8080/",
          "height": 34
        },
        "id": "YbTlQ0OWG36C",
        "outputId": "04562ee1-ad1e-4d11-8dc6-b4e453e12e66"
      },
      "source": [
        "Y = extract_patches(np.asarray(image), int(image.size[0]*image.size[1]/65536))\n",
        "temp = inv(np.matmul(sparse_code, sparse_code.T))\n",
        "D_new = Y.dot(sparse_code.T).dot(temp)\n",
        "reconstructed = D_new.dot(sparse_code)\n",
        "\n",
        "new_img = recreate_image(reconstructed, (1024, 1024, 3), int(image.size[0]*image.size[1]/65536))\n",
        "new_img = post_process(new_img)\n",
        "Image.fromarray(new_img.astype('uint8')).save('scene_big.png')"
      ],
      "execution_count": null,
      "outputs": [
        {
          "output_type": "stream",
          "text": [
            "(48, 65536)\n"
          ],
          "name": "stdout"
        }
      ]
    },
    {
      "cell_type": "code",
      "metadata": {
        "id": "_d0guNFLbLZi"
      },
      "source": [
        "Image.fromarray(new_img.astype('uint8')).show()"
      ],
      "execution_count": null,
      "outputs": []
    }
  ]
}